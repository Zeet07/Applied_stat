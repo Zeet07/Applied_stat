{
 "cells": [
  {
   "cell_type": "markdown",
   "metadata": {
    "id": "nMi8GwSWfC8J"
   },
   "source": []
  },
  {
   "cell_type": "markdown",
   "metadata": {
    "id": "o7J9BiXPsuci"
   },
   "source": [
    "Question 1:\n",
    "In this question we take two disjoint sets and checks the additivity rule . The additivity rule states that number of element in the union of two sets is equal to the sum of elements of the two sets . I have also checked that the input parameter are sets only otherwise it will throw an error.\n"
   ]
  },
  {
   "cell_type": "code",
   "execution_count": 2,
   "metadata": {
    "colab": {
     "base_uri": "https://localhost:8080/"
    },
    "id": "dLEeVSb8sfAY",
    "outputId": "c0060afd-945f-4096-cc25-5645582b4dcb"
   },
   "outputs": [
    {
     "name": "stdout",
     "output_type": "stream",
     "text": [
      "Counting measure of the sets: 6\n",
      "Set 1: {'c', 'b', 'a'}\n",
      "Set 2: {'d', 'f', 'e'}\n",
      "Are the sets disjoint? Yes\n",
      "Additivity satisfied? Yes\n"
     ]
    }
   ],
   "source": [
    "# Implementation of the counting measure\n",
    "def counting_measure(set1, set2):\n",
    "    if not isinstance(set1, set) or not isinstance(set2, set):\n",
    "        raise TypeError(\"Both inputs must be sets.\")\n",
    "\n",
    "    if not set1.isdisjoint(set2):\n",
    "        raise ValueError(\"The sets are not disjoint.\")\n",
    "\n",
    "    return len(set1) + len(set2)\n",
    "\n",
    "# Disjoint sets\n",
    "set1 = {\"a\", \"b\", \"c\"}\n",
    "set2 = {\"d\", \"e\", \"f\"}\n",
    "\n",
    "# Check if the sets are disjoint and compute the counting measure\n",
    "try:\n",
    "    measure_set1 = len(set1)\n",
    "    measure_set2 = len(set2)\n",
    "    measure_union = counting_measure(set1, set2)\n",
    "\n",
    "    # Check if additivity is satisfied\n",
    "    additivity_satisfied = measure_set1 + measure_set2 == measure_union\n",
    "\n",
    "    # Display the results\n",
    "    print(f\"Counting measure of the sets: {measure_union}\")\n",
    "    print(f\"Set 1: {set1}\")\n",
    "    print(f\"Set 2: {set2}\")\n",
    "    print(f\"Are the sets disjoint? {'Yes' if set1.isdisjoint(set2) else 'No'}\")\n",
    "    print(f\"Additivity satisfied? {'Yes' if additivity_satisfied else 'No'}\")\n",
    "\n",
    "except TypeError as e:\n",
    "    print(f\"An error occurred: {e}\")\n",
    "\n",
    "except ValueError as e:\n",
    "    print(f\"An error occurred: {e}\")\n"
   ]
  },
  {
   "cell_type": "markdown",
   "metadata": {
    "id": "hq7RVOomsyEl"
   },
   "source": [
    "Question 2:\n",
    "In this question we are taking an interval and returning the length of the interval by substracting the end and the start point . I have checked the input parameter should be interval by using the isInstance function , where it checks if the input is interval or not. If not it will throw an error.\n"
   ]
  },
  {
   "cell_type": "code",
   "execution_count": 19,
   "metadata": {
    "colab": {
     "base_uri": "https://localhost:8080/"
    },
    "id": "2s42n_YbsmfV",
    "outputId": "1e78062e-1644-4b69-ed37-970aac9bfca9"
   },
   "outputs": [
    {
     "name": "stdout",
     "output_type": "stream",
     "text": [
      "2.5\n"
     ]
    }
   ],
   "source": [
    "class Interval:\n",
    "    \"\"\"A class to represent intervals.\"\"\"\n",
    "\n",
    "    def __init__(self, start, end):\n",
    "        \"\"\"Initializes an interval.\n",
    "\n",
    "    Args:\n",
    "      start: The start point of the interval.\n",
    "      end: The end point of the interval.\n",
    "    \"\"\"\n",
    "        self.start = start\n",
    "        self.end = end\n",
    "\n",
    "    def __str__(self):\n",
    "        \"\"\"Returns a string representation of the interval.\"\"\"\n",
    "        return f\"[{self.start}, {self.end}]\"\n",
    "\n",
    "    def length(self):\n",
    "        \"\"\"Returns the length of the interval.\"\"\"\n",
    "        return self.end - self.start\n",
    "\n",
    "def length_measure(interval):\n",
    "    \"\"\"Computes the length measure of an interval.\n",
    "\n",
    "    Args:\n",
    "      interval: An interval.\n",
    "\n",
    "    Returns:\n",
    "      The length measure of the interval.\n",
    "    \"\"\"\n",
    "\n",
    "    if not isinstance(interval, Interval):\n",
    "        raise TypeError(\"The input must be an interval.\")\n",
    "\n",
    "    return interval.length()\n",
    "\n",
    "# Test the length measure on the interval [1, 3.5]\n",
    "interval = Interval(1, 3.5)\n",
    "length = length_measure(interval)\n",
    "\n",
    "print(length)\n"
   ]
  },
  {
   "cell_type": "markdown",
   "metadata": {
    "id": "_Ez9pt0BtxiH"
   },
   "source": [
    "Question 3:\n",
    "In this question I defined a function named \"expon_measure\", that takes two arguements (interval and lmbda). In this function prob_mass is the cumulative probability for the given interval. I have checked with four other intervals as mentioned in the question. And also I have plotted the intervals against the PDF of Exp(2) and printed the probability measures below."
   ]
  },
  {
   "cell_type": "code",
   "execution_count": 4,
   "metadata": {
    "colab": {
     "base_uri": "https://localhost:8080/",
     "height": 543
    },
    "id": "Kt80edkwtxC6",
    "outputId": "f5bea4c6-cc3e-4405-9eba-07c7db02080f"
   },
   "outputs": [
    {
     "name": "stdout",
     "output_type": "stream",
     "text": [
      "Probability measure for interval (0, 1): 0.8646647167633873\n",
      "Probability measure for interval (1, 1): 0.0\n",
      "Probability measure for interval (1, 10): 0.13533528117545912\n",
      "Probability measure for interval (0, inf): 1.0\n"
     ]
    },
    {
     "data": {
      "image/png": "[encoded data removed]",
      "text/plain": [
       "<Figure size 640x480 with 1 Axes>"
      ]
     },
     "metadata": {},
     "output_type": "display_data"
    }
   ],
   "source": [
    "import scipy.stats as stats\n",
    "import numpy as np\n",
    "import matplotlib.pyplot as plt\n",
    "\n",
    "def expon_measure(interval, lmbda):\n",
    "    # Create an exponential distribution with the given lambda (lmbda)\n",
    "    exp_dist = stats.expon(scale=1 / lmbda)\n",
    "\n",
    "    # Calculate the cumulative probability for the given interval\n",
    "    prob_mass = exp_dist.cdf(interval[1]) - exp_dist.cdf(interval[0])\n",
    "\n",
    "    return prob_mass\n",
    "\n",
    "# Test your function with various intervals\n",
    "intervals = [(0, 1), (1, 1), (1, 10), (0, np.inf)]\n",
    "\n",
    "lmbda = 2  # Set the lambda parameter\n",
    "\n",
    "for interval in intervals:\n",
    "    prob_mass = expon_measure(interval, lmbda)\n",
    "    print(f\"Probability measure for interval {interval}: {prob_mass}\")\n",
    "\n",
    "# Generate data to plot the PDF of Exp(2)\n",
    "x = np.linspace(0, 10, 1000)\n",
    "pdf = stats.expon.pdf(x, scale=1 / lmbda)  # PDF of Exp(2)\n",
    "\n",
    "# Plot the PDF\n",
    "plt.plot(x, pdf)\n",
    "plt.title(\"PDF of Exp(2)\")\n",
    "plt.xlabel(\"x\")\n",
    "plt.ylabel(\"PDF\")\n",
    "plt.show()"
   ]
  },
  {
   "cell_type": "markdown",
   "metadata": {
    "id": "ZsTMPS6XuCSH"
   },
   "source": [
    "Question 4:\n",
    "In this question I have defined a function named \"expon_pdf\". In this function I have created an exponential distribution with lambda = 2. In this given question there are four intervals that I have checked. I have computed and printed the integrals using scipy.integrate.quad below."
   ]
  },
  {
   "cell_type": "code",
   "execution_count": 8,
   "metadata": {
    "colab": {
     "base_uri": "https://localhost:8080/",
     "height": 519
    },
    "id": "qX_phxpvt02v",
    "outputId": "222fa2ca-12d1-4c26-989e-a30e13d99b45"
   },
   "outputs": [
    {
     "name": "stdout",
     "output_type": "stream",
     "text": [
      "Integral from 0 to 1: 0.8646647167633873\n",
      "Integral from 1 to 1: 0.0\n",
      "Integral from 1 to 10: 0.1353352811754591\n",
      "Integral from 0 to inf: 0.9999999999999999\n"
     ]
    },
    {
     "data": {
      "text/plain": [
       "[<matplotlib.lines.Line2D at 0x12acb6590>]"
      ]
     },
     "execution_count": 8,
     "metadata": {},
     "output_type": "execute_result"
    },
    {
     "data": {
      "image/png": "[encoded data removed]",
      "text/plain": [
       "<Figure size 640x480 with 1 Axes>"
      ]
     },
     "metadata": {},
     "output_type": "display_data"
    }
   ],
   "source": [
    "import scipy.stats as stats\n",
    "from scipy.integrate import quad\n",
    "\n",
    "# Define the expon_pdf function\n",
    "def expon_pdf(x):\n",
    "    # Create an exponential distribution with λ = 2\n",
    "    exp_dist = stats.expon(scale=1 / 2)\n",
    "    return exp_dist.pdf(x)\n",
    "\n",
    "# Define the integrals to calculate\n",
    "integrals = [\n",
    "    (0, 1),   # Integral from 0 to 1\n",
    "    (1, 1),   # Integral from 1 to 1 (a single point)\n",
    "    (1, 10),  # Integral from 10 to 1 (reverse order)\n",
    "    (0, float('inf'))  # Integral from 0 to infinity\n",
    "]\n",
    "\n",
    "# Compute and print the integrals using scipy.integrate.quad\n",
    "for a, b in integrals:\n",
    "    result, _ = quad(expon_pdf, a, b)\n",
    "    print(f\"Integral from {a} to {b}: {result}\")\n",
    "\n",
    "\n",
    "# Create a range of x values for plotting\n",
    "x = np.linspace(0, 10, 1000)\n",
    "pdf = expon_pdf(x)\n",
    "\n",
    "# Plot the PDF\n",
    "plt.plot(x, pdf, label=\"PDF of Exp(2)\", color='blue')"
   ]
  },
  {
   "cell_type": "markdown",
   "metadata": {
    "id": "Xd7hB19CuFQw"
   },
   "source": [
    "### Question 4:\n",
    "#### The integral from 0 to 1 is approximately 0.8646647167633873, which matches the probability measure for the interval [0, 1] in the previous question.\n",
    "#### The integral from 1 to 1 (a single point) is 0.0, which is expected as it represents the probability measure at a single point, and the PDF is zero at that point for a continuous distribution.\n",
    "#### The integral from 1 to 10  is approximately 0.1353352811754591\n",
    "#### The integral from 0 to infinity is approximately 1.0, representing the entire probability space under the exponential distribution, and it matches the result in the previous question.\n",
    "#### The results are consistent with the properties of probability density functions and integrals of continuous probability distributions.\n",
    "#### In question 3 we used the CDF method to calculate the probabilty mass for the given interval and in question 4 we are integrating the PDF and getting the CDF for a given interval. This results the same value for the given interval in both the questions.\n",
    "\n",
    "\n"
   ]
  },
  {
   "cell_type": "code",
   "execution_count": null,
   "metadata": {},
   "outputs": [],
   "source": []
  },
  {
   "cell_type": "code",
   "execution_count": null,
   "metadata": {},
   "outputs": [],
   "source": []
  }
 ],
 "metadata": {
  "colab": {
   "provenance": []
  },
  "kernelspec": {
   "display_name": "Python 3 (ipykernel)",
   "language": "python",
   "name": "python3"
  },
  "language_info": {
   "codemirror_mode": {
    "name": "ipython",
    "version": 3
   },
   "file_extension": ".py",
   "mimetype": "text/x-python",
   "name": "python",
   "nbconvert_exporter": "python",
   "pygments_lexer": "ipython3",
   "version": "3.11.4"
  }
 },
 "nbformat": 4,
 "nbformat_minor": 1
}
